{
 "cells": [
  {
   "cell_type": "markdown",
   "id": "e0e9789a",
   "metadata": {},
   "source": [
    "# Project 1 — Dataset Creation"
   ]
  },
  {
   "cell_type": "markdown",
   "id": "9623007a",
   "metadata": {},
   "source": [
    "The **goal** for this assignment is for you to create a usable dataset from an open-source data collection."
   ]
  },
  {
   "cell_type": "markdown",
   "id": "95953285",
   "metadata": {},
   "source": [
    "## Import Packages"
   ]
  },
  {
   "cell_type": "code",
   "execution_count": 9,
   "id": "bb33c97f",
   "metadata": {},
   "outputs": [],
   "source": [
    "import os\n",
    "import numpy as np\n",
    "import pandas as pd\n",
    "from pandas.plotting import scatter_matrix\n",
    "import matplotlib.pyplot as plt\n",
    "import seaborn as sns\n",
    "from sklearn.model_selection import train_test_split"
   ]
  },
  {
   "cell_type": "markdown",
   "id": "1d815778",
   "metadata": {},
   "source": [
    "## Step 1: Load Data"
   ]
  },
  {
   "cell_type": "code",
   "execution_count": 2,
   "id": "ae9f880f",
   "metadata": {},
   "outputs": [
    {
     "output_type": "execute_result",
     "data": {
      "text/plain": [
       "  poster created_for                                         about_self  \\\n",
       "0  bride    Not Self  I am a simple girl with modern thinking. I fir...   \n",
       "1  bride    Not Self  Simple and caring. I am doing my PG in PSN eng...   \n",
       "2  bride        Self                                                NaN   \n",
       "3  bride    Not Self  My daughter is loving &amp; caring person, she...   \n",
       "4  bride    Not Self  My daughter is a sweet, talented, beautiful an...   \n",
       "\n",
       "                                       about_looking about_family  \\\n",
       "0                                                NaN          NaN   \n",
       "1                                                NaN          NaN   \n",
       "2                                                NaN          NaN   \n",
       "3                                                NaN          NaN   \n",
       "4  Looking for a genuine and pious boy for my dau...          NaN   \n",
       "\n",
       "   age_looking_avg  age_self_2013 body_self  brothers            caste1  ...  \\\n",
       "0             28.0             25   Average       1.0           Brahmin  ...   \n",
       "1             28.0             25      Slim       1.0            Ezhava  ...   \n",
       "2             27.0             24   Average       2.0  Sikh - Ramgharia  ...   \n",
       "3             27.0             24   Average       1.0    Sakkhar Sindhi  ...   \n",
       "4             29.0             25   Average       2.0             Sunni  ...   \n",
       "\n",
       "       mother_occupation mother_tongue1  \\\n",
       "0  Business/Entrepreneur          Hindi   \n",
       "1              Housewife      Malayalam   \n",
       "2              Housewife        Punjabi   \n",
       "3              Housewife         Sindhi   \n",
       "4              Housewife           Urdu   \n",
       "\n",
       "                                          occupation religion_self sisters  \\\n",
       "0                                                NaN         Hindu     1.0   \n",
       "1  Banking, Insurance &amp; Financial Services,Ci...         Hindu     0.0   \n",
       "2                      Business Owner / Entrepreneur          Sikh     1.0   \n",
       "3                                                NaN         Hindu     0.0   \n",
       "4                                                NaN        Muslim     4.0   \n",
       "\n",
       "  smoking_self disability         status_self  values_self  weight_self  \n",
       "0           No      False          High Class     Moderate        165.0  \n",
       "1           No      False        Middle Class     Moderate         90.0  \n",
       "2           No      False        Middle Class          NaN          NaN  \n",
       "3           No      False  Upper Middle Class     Moderate         90.0  \n",
       "4           No      False        Middle Class     Moderate         90.0  \n",
       "\n",
       "[5 rows x 31 columns]"
      ],
      "text/html": "<div>\n<style scoped>\n    .dataframe tbody tr th:only-of-type {\n        vertical-align: middle;\n    }\n\n    .dataframe tbody tr th {\n        vertical-align: top;\n    }\n\n    .dataframe thead th {\n        text-align: right;\n    }\n</style>\n<table border=\"1\" class=\"dataframe\">\n  <thead>\n    <tr style=\"text-align: right;\">\n      <th></th>\n      <th>poster</th>\n      <th>created_for</th>\n      <th>about_self</th>\n      <th>about_looking</th>\n      <th>about_family</th>\n      <th>age_looking_avg</th>\n      <th>age_self_2013</th>\n      <th>body_self</th>\n      <th>brothers</th>\n      <th>caste1</th>\n      <th>...</th>\n      <th>mother_occupation</th>\n      <th>mother_tongue1</th>\n      <th>occupation</th>\n      <th>religion_self</th>\n      <th>sisters</th>\n      <th>smoking_self</th>\n      <th>disability</th>\n      <th>status_self</th>\n      <th>values_self</th>\n      <th>weight_self</th>\n    </tr>\n  </thead>\n  <tbody>\n    <tr>\n      <th>0</th>\n      <td>bride</td>\n      <td>Not Self</td>\n      <td>I am a simple girl with modern thinking. I fir...</td>\n      <td>NaN</td>\n      <td>NaN</td>\n      <td>28.0</td>\n      <td>25</td>\n      <td>Average</td>\n      <td>1.0</td>\n      <td>Brahmin</td>\n      <td>...</td>\n      <td>Business/Entrepreneur</td>\n      <td>Hindi</td>\n      <td>NaN</td>\n      <td>Hindu</td>\n      <td>1.0</td>\n      <td>No</td>\n      <td>False</td>\n      <td>High Class</td>\n      <td>Moderate</td>\n      <td>165.0</td>\n    </tr>\n    <tr>\n      <th>1</th>\n      <td>bride</td>\n      <td>Not Self</td>\n      <td>Simple and caring. I am doing my PG in PSN eng...</td>\n      <td>NaN</td>\n      <td>NaN</td>\n      <td>28.0</td>\n      <td>25</td>\n      <td>Slim</td>\n      <td>1.0</td>\n      <td>Ezhava</td>\n      <td>...</td>\n      <td>Housewife</td>\n      <td>Malayalam</td>\n      <td>Banking, Insurance &amp;amp; Financial Services,Ci...</td>\n      <td>Hindu</td>\n      <td>0.0</td>\n      <td>No</td>\n      <td>False</td>\n      <td>Middle Class</td>\n      <td>Moderate</td>\n      <td>90.0</td>\n    </tr>\n    <tr>\n      <th>2</th>\n      <td>bride</td>\n      <td>Self</td>\n      <td>NaN</td>\n      <td>NaN</td>\n      <td>NaN</td>\n      <td>27.0</td>\n      <td>24</td>\n      <td>Average</td>\n      <td>2.0</td>\n      <td>Sikh - Ramgharia</td>\n      <td>...</td>\n      <td>Housewife</td>\n      <td>Punjabi</td>\n      <td>Business Owner / Entrepreneur</td>\n      <td>Sikh</td>\n      <td>1.0</td>\n      <td>No</td>\n      <td>False</td>\n      <td>Middle Class</td>\n      <td>NaN</td>\n      <td>NaN</td>\n    </tr>\n    <tr>\n      <th>3</th>\n      <td>bride</td>\n      <td>Not Self</td>\n      <td>My daughter is loving &amp;amp; caring person, she...</td>\n      <td>NaN</td>\n      <td>NaN</td>\n      <td>27.0</td>\n      <td>24</td>\n      <td>Average</td>\n      <td>1.0</td>\n      <td>Sakkhar Sindhi</td>\n      <td>...</td>\n      <td>Housewife</td>\n      <td>Sindhi</td>\n      <td>NaN</td>\n      <td>Hindu</td>\n      <td>0.0</td>\n      <td>No</td>\n      <td>False</td>\n      <td>Upper Middle Class</td>\n      <td>Moderate</td>\n      <td>90.0</td>\n    </tr>\n    <tr>\n      <th>4</th>\n      <td>bride</td>\n      <td>Not Self</td>\n      <td>My daughter is a sweet, talented, beautiful an...</td>\n      <td>Looking for a genuine and pious boy for my dau...</td>\n      <td>NaN</td>\n      <td>29.0</td>\n      <td>25</td>\n      <td>Average</td>\n      <td>2.0</td>\n      <td>Sunni</td>\n      <td>...</td>\n      <td>Housewife</td>\n      <td>Urdu</td>\n      <td>NaN</td>\n      <td>Muslim</td>\n      <td>4.0</td>\n      <td>No</td>\n      <td>False</td>\n      <td>Middle Class</td>\n      <td>Moderate</td>\n      <td>90.0</td>\n    </tr>\n  </tbody>\n</table>\n<p>5 rows × 31 columns</p>\n</div>"
     },
     "metadata": {},
     "execution_count": 2
    }
   ],
   "source": [
    "data = pd.read_csv(r'C:/Users/Kavya/Desktop/07  Advanced Data Analysis/data71200/matrimonial.csv')\n",
    "df = pd.DataFrame(data)\n",
    "df.head()"
   ]
  },
  {
   "cell_type": "code",
   "execution_count": 19,
   "metadata": {},
   "outputs": [],
   "source": [
    "train_set, test_set = train_test_split(df, test_size=0.2, random_state=44)"
   ]
  },
  {
   "cell_type": "code",
   "execution_count": 26,
   "metadata": {},
   "outputs": [
    {
     "output_type": "stream",
     "name": "stdout",
     "text": [
      "<class 'pandas.core.frame.DataFrame'>\nInt64Index: 14359 entries, 13504 to 14100\nData columns (total 31 columns):\n #   Column               Non-Null Count  Dtype  \n---  ------               --------------  -----  \n 0   poster               14359 non-null  object \n 1   created_for          14266 non-null  object \n 2   about_self           6926 non-null   object \n 3   about_looking        1451 non-null   object \n 4   about_family         1291 non-null   object \n 5   age_looking_avg      13805 non-null  float64\n 6   age_self_2013        14359 non-null  int64  \n 7   body_self            12627 non-null  object \n 8   brothers             6676 non-null   float64\n 9   caste1               13894 non-null  object \n 10  complexion_self      13035 non-null  object \n 11  degree               14345 non-null  object \n 12  drinking_self        12906 non-null  object \n 13  diet_self            12936 non-null  object \n 14  employed_self        13615 non-null  object \n 15  family_type          6511 non-null   object \n 16  father_occupation    5900 non-null   object \n 17  have_children        14359 non-null  object \n 18  height_self_in       14359 non-null  int64  \n 19  income_self          9351 non-null   float64\n 20  marital_status_self  14359 non-null  object \n 21  mother_occupation    5922 non-null   object \n 22  mother_tongue1       14313 non-null  object \n 23  occupation           11074 non-null  object \n 24  religion_self        14359 non-null  object \n 25  sisters              6676 non-null   float64\n 26  smoking_self         12922 non-null  object \n 27  disability           14359 non-null  bool   \n 28  status_self          6554 non-null   object \n 29  values_self          6274 non-null   object \n 30  weight_self          3712 non-null   float64\ndtypes: bool(1), float64(5), int64(2), object(23)\nmemory usage: 3.9+ MB\n"
     ]
    }
   ],
   "source": [
    "train_set.info()"
   ]
  },
  {
   "cell_type": "code",
   "execution_count": 29,
   "metadata": {},
   "outputs": [
    {
     "output_type": "execute_result",
     "data": {
      "text/plain": [
       "      age_looking_avg age_self_2013 brothers height_self_in income_self  \\\n",
       "count           13805         14359     6676          14359        9351   \n",
       "mean               25            25        1             66        7117   \n",
       "std                 4             1        1              3       15255   \n",
       "min                18            24        0             58         546   \n",
       "25%                23            25        0             63        1366   \n",
       "50%                25            25        1             65        4094   \n",
       "75%                28            25        1             68        5462   \n",
       "max                75            27       10             84      400000   \n",
       "\n",
       "      sisters weight_self  \n",
       "count    6676        3712  \n",
       "mean        1         128  \n",
       "std         1          24  \n",
       "min         0          13  \n",
       "25%         0         110  \n",
       "50%         1         128  \n",
       "75%         1         143  \n",
       "max        10         390  "
      ],
      "text/html": "<div>\n<style scoped>\n    .dataframe tbody tr th:only-of-type {\n        vertical-align: middle;\n    }\n\n    .dataframe tbody tr th {\n        vertical-align: top;\n    }\n\n    .dataframe thead th {\n        text-align: right;\n    }\n</style>\n<table border=\"1\" class=\"dataframe\">\n  <thead>\n    <tr style=\"text-align: right;\">\n      <th></th>\n      <th>age_looking_avg</th>\n      <th>age_self_2013</th>\n      <th>brothers</th>\n      <th>height_self_in</th>\n      <th>income_self</th>\n      <th>sisters</th>\n      <th>weight_self</th>\n    </tr>\n  </thead>\n  <tbody>\n    <tr>\n      <th>count</th>\n      <td>13805</td>\n      <td>14359</td>\n      <td>6676</td>\n      <td>14359</td>\n      <td>9351</td>\n      <td>6676</td>\n      <td>3712</td>\n    </tr>\n    <tr>\n      <th>mean</th>\n      <td>25</td>\n      <td>25</td>\n      <td>1</td>\n      <td>66</td>\n      <td>7117</td>\n      <td>1</td>\n      <td>128</td>\n    </tr>\n    <tr>\n      <th>std</th>\n      <td>4</td>\n      <td>1</td>\n      <td>1</td>\n      <td>3</td>\n      <td>15255</td>\n      <td>1</td>\n      <td>24</td>\n    </tr>\n    <tr>\n      <th>min</th>\n      <td>18</td>\n      <td>24</td>\n      <td>0</td>\n      <td>58</td>\n      <td>546</td>\n      <td>0</td>\n      <td>13</td>\n    </tr>\n    <tr>\n      <th>25%</th>\n      <td>23</td>\n      <td>25</td>\n      <td>0</td>\n      <td>63</td>\n      <td>1366</td>\n      <td>0</td>\n      <td>110</td>\n    </tr>\n    <tr>\n      <th>50%</th>\n      <td>25</td>\n      <td>25</td>\n      <td>1</td>\n      <td>65</td>\n      <td>4094</td>\n      <td>1</td>\n      <td>128</td>\n    </tr>\n    <tr>\n      <th>75%</th>\n      <td>28</td>\n      <td>25</td>\n      <td>1</td>\n      <td>68</td>\n      <td>5462</td>\n      <td>1</td>\n      <td>143</td>\n    </tr>\n    <tr>\n      <th>max</th>\n      <td>75</td>\n      <td>27</td>\n      <td>10</td>\n      <td>84</td>\n      <td>400000</td>\n      <td>10</td>\n      <td>390</td>\n    </tr>\n  </tbody>\n</table>\n</div>"
     },
     "metadata": {},
     "execution_count": 29
    }
   ],
   "source": [
    "train_set.describe().apply(lambda s: s.apply('{0:.0f}'.format))"
   ]
  },
  {
   "cell_type": "code",
   "execution_count": null,
   "metadata": {},
   "outputs": [],
   "source": []
  }
 ],
 "metadata": {
  "kernelspec": {
   "name": "python3",
   "display_name": "Python 3.8.8 64-bit ('base': conda)"
  },
  "language_info": {
   "codemirror_mode": {
    "name": "ipython",
    "version": 3
   },
   "file_extension": ".py",
   "mimetype": "text/x-python",
   "name": "python",
   "nbconvert_exporter": "python",
   "pygments_lexer": "ipython3",
   "version": "3.8.8"
  },
  "interpreter": {
   "hash": "b3ba2566441a7c06988d0923437866b63cedc61552a5af99d1f4fb67d367b25f"
  }
 },
 "nbformat": 4,
 "nbformat_minor": 5
}